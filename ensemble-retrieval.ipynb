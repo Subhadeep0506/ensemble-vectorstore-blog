{
 "cells": [
  {
   "cell_type": "code",
   "execution_count": 2,
   "metadata": {},
   "outputs": [
    {
     "name": "stderr",
     "output_type": "stream",
     "text": [
      "/home/subhadeep/Documents/medqa-langchain-langgraph/.venv/lib/python3.11/site-packages/tqdm/auto.py:21: TqdmWarning: IProgress not found. Please update jupyter and ipywidgets. See https://ipywidgets.readthedocs.io/en/stable/user_install.html\n",
      "  from .autonotebook import tqdm as notebook_tqdm\n"
     ]
    }
   ],
   "source": [
    "import pandas as pd\n",
    "\n",
    "from dotenv import load_dotenv\n",
    "from src.services import LLMFactory, VectorStoreFactory, EmbeddingsFactory\n",
    "from src.ingest import Ingestion\n",
    "from langchain_core.prompts import (\n",
    "    ChatPromptTemplate,\n",
    ")\n",
    "from langchain.retrievers.ensemble import EnsembleRetriever\n",
    "from langchain.chains.history_aware_retriever import create_history_aware_retriever\n",
    "from langchain.chains.combine_documents import create_stuff_documents_chain\n",
    "from langchain.chains.retrieval import create_retrieval_chain\n",
    "from langchain_core.prompts import ChatPromptTemplate\n",
    "from langchain.memory import ConversationBufferWindowMemory, SQLChatMessageHistory\n",
    "\n",
    "_ = load_dotenv()"
   ]
  },
  {
   "cell_type": "code",
   "execution_count": null,
   "metadata": {},
   "outputs": [],
   "source": [
    "data = pd.read_parquet(\"data/medqa.parquet\", engine=\"pyarrow\")\n",
    "data.head()"
   ]
  },
  {
   "cell_type": "markdown",
   "metadata": {},
   "source": [
    "## Ingesting the medical QnA data\n"
   ]
  },
  {
   "cell_type": "code",
   "execution_count": 3,
   "metadata": {},
   "outputs": [
    {
     "name": "stderr",
     "output_type": "stream",
     "text": [
      "2024-11-22 23:48:06 - root - INFO - Application Logger Initialized\n",
      "2024-11-22 23:48:06 - root - INFO - Log Directory: logs\n",
      "2024-11-22 23:48:06 - src.services.embeddings_factory - INFO - Using Cohere embeddings model.\n",
      "2024-11-22 23:48:06 - src.services.vectorstore_factory - INFO - Using Milvus\n",
      "2024-11-22 23:48:07 - pymilvus.milvus_client.milvus_client - DEBUG - Created new connection using: 422e1f8b965c4f2e8e82dfc00cdd096f\n",
      "2024-11-22 23:48:08 - langchain_milvus.vectorstores.milvus - WARNING - DeprecationWarning: `metadata_field` is about to be deprecated, please set `enable_dynamic_field`=True instead.\n",
      "2024-11-22 23:48:08 - pymilvus.milvus_client.milvus_client - DEBUG - Created new connection using: 387e434db089446da9f453b77d95048c\n"
     ]
    }
   ],
   "source": [
    "ingestion = Ingestion(\n",
    "    embeddings_service=\"cohere\",\n",
    "    vectorstore_service=\"milvus\",\n",
    ")"
   ]
  },
  {
   "cell_type": "code",
   "execution_count": null,
   "metadata": {},
   "outputs": [],
   "source": [
    "# ingestion.ingest_document(\n",
    "#     file_path=\"data/medqa.parquet\",\n",
    "#     category=\"medical\",\n",
    "#     sub_category=\"conversation\",\n",
    "#     exclude_columns=[\"instruction\"],\n",
    "# )"
   ]
  },
  {
   "cell_type": "markdown",
   "metadata": {},
   "source": [
    "### User doc upload"
   ]
  },
  {
   "cell_type": "code",
   "execution_count": 13,
   "metadata": {},
   "outputs": [
    {
     "name": "stderr",
     "output_type": "stream",
     "text": [
      "2024-11-23 00:40:46 - src.ingest - INFO - Using PDF Reader\n",
      "2024-11-23 00:40:46 - src.ingest - INFO - Ingesting document to vectorstore\n"
     ]
    }
   ],
   "source": [
    "# Data url: https://lab.mlaw.gov.sg/files/Sample-filled-in-MR.pdf\n",
    "# https://cdn1.lalpathlabs.com/live/reports/WM17S.pdf\n",
    "# https://med.ucf.edu/media/2018/08/Sample-Adult-History-And-Physical-By-M2-Student.pdf\n",
    "\n",
    "ingestion.ingest_document(\n",
    "    file_path=\"data/anxiety-patient.pdf\",\n",
    "    category=\"medical\",\n",
    "    sub_category=\"document\",\n",
    ")"
   ]
  },
  {
   "cell_type": "markdown",
   "metadata": {},
   "source": [
    "## Creating QnA Chain\n"
   ]
  },
  {
   "cell_type": "code",
   "execution_count": 14,
   "metadata": {},
   "outputs": [
    {
     "name": "stderr",
     "output_type": "stream",
     "text": [
      "2024-11-23 00:40:54 - src.services.embeddings_factory - INFO - Using Cohere embeddings model.\n",
      "2024-11-23 00:40:54 - src.services.vectorstore_factory - INFO - Using Milvus\n",
      "2024-11-23 00:40:54 - pymilvus.milvus_client.milvus_client - DEBUG - Created new connection using: 8beb37f088414aa9a121c8ca5c21d613\n",
      "2024-11-23 00:40:54 - langchain_milvus.vectorstores.milvus - WARNING - DeprecationWarning: `metadata_field` is about to be deprecated, please set `enable_dynamic_field`=True instead.\n",
      "2024-11-23 00:40:55 - pymilvus.milvus_client.milvus_client - DEBUG - Created new connection using: 216df11c89b048fabc963d8bbf7cc34c\n",
      "2024-11-23 00:40:57 - src.services.llm_factory - INFO - Using Cohere chat model.\n"
     ]
    }
   ],
   "source": [
    "embeddings_instance = EmbeddingsFactory.get_embeddings(embeddings_service=\"cohere\")\n",
    "vectorstore_instance = VectorStoreFactory.get_vectorstore(\n",
    "    vectorstore_service=\"milvus\", embeddings=embeddings_instance\n",
    ")\n",
    "llm = LLMFactory.get_chat_model(llm_service=\"cohere\")"
   ]
  },
  {
   "cell_type": "code",
   "execution_count": 15,
   "metadata": {},
   "outputs": [],
   "source": [
    "conversation_retriever = vectorstore_instance.as_retriever(\n",
    "    search_type=\"similarity\",\n",
    "    search_kwargs={\n",
    "        \"k\": 6,\n",
    "        \"fetch_k\": 12,\n",
    "        \"filter\": {\n",
    "            \"category\": \"medical\",\n",
    "            \"sub_category\": \"conversation\",\n",
    "        },\n",
    "    },\n",
    ")\n",
    "\n",
    "document_retriever = vectorstore_instance.as_retriever(\n",
    "    search_type=\"similarity\",\n",
    "    search_kwargs={\n",
    "        \"k\": 6,\n",
    "        \"fetch_k\": 12,\n",
    "        \"filter\": {\n",
    "            \"category\": \"medical\",\n",
    "            \"sub_category\": \"document\",\n",
    "        },\n",
    "    },\n",
    ")\n",
    "\n",
    "history = SQLChatMessageHistory(\n",
    "    session_id=\"ghdcfhdxgfx\",\n",
    "    connection_string=\"sqlite:///.cache/chat_history.db\",\n",
    "    table_name=\"message_store\",\n",
    "    session_id_field_name=\"session_id\",\n",
    ")\n",
    "\n",
    "memory = ConversationBufferWindowMemory(chat_memory=history)"
   ]
  },
  {
   "cell_type": "code",
   "execution_count": 12,
   "metadata": {},
   "outputs": [
    {
     "data": {
      "text/plain": [
       "(insert count: 0, delete count: 12, upsert count: 0, timestamp: 0, success count: 0, err count: 0, cost: 12)"
      ]
     },
     "execution_count": 12,
     "metadata": {},
     "output_type": "execute_result"
    }
   ],
   "source": [
    "vectorstore_instance.delete(\n",
    "    expr=\"metadata['file_name'] like 'test-report.pdf'\"\n",
    ")"
   ]
  },
  {
   "cell_type": "code",
   "execution_count": 16,
   "metadata": {},
   "outputs": [],
   "source": [
    "ensambled_retriever = EnsembleRetriever(\n",
    "    retrievers=[conversation_retriever, document_retriever],\n",
    "    weights=[0.4, 0.6],\n",
    ")"
   ]
  },
  {
   "cell_type": "code",
   "execution_count": 17,
   "metadata": {},
   "outputs": [],
   "source": [
    "prompt = ChatPromptTemplate.from_messages(\n",
    "    [\n",
    "        (\n",
    "            \"system\",\n",
    "            \"\"\"You are a helpful chatbot doctor. You need to answer the user's queries in extreme detail from the document context. \n",
    "            # Instructions\n",
    "            1. You have access to one tool: vectorstore_retriever. Always use the vectorstore_retriever tool to retrieve the context and answer the question.\n",
    "            2.The first part of the context contains conversation between doctor and patient, which you can use to answer the user query as close as possible to a real doctor.\n",
    "            3. The second part of the contect is a document on which the user asks query about.\n",
    "            4. Utilize the conversation and the document contexts to answer the queries as good as possible.\n",
    "            5. When asked about a patient, always refer to the patient from the second part of the context i.e. the patient in the document.\n",
    "            6. DO NOT answer for queries for which the context has no information about. Just reply with 'Sorry, can you rewrite your query please?' when user asks irrelevant questions.\n",
    "            # Context\n",
    "            {context}\"\"\",\n",
    "        ),\n",
    "        (\"placeholder\", \"{chat_history}\"),\n",
    "        (\"human\", \"{input}\"),\n",
    "    ]\n",
    ")"
   ]
  },
  {
   "cell_type": "code",
   "execution_count": 9,
   "metadata": {},
   "outputs": [],
   "source": [
    "question_answer_chain = create_stuff_documents_chain(llm, prompt)\n",
    "history_aware_retriever = create_history_aware_retriever(\n",
    "    llm, ensambled_retriever, prompt\n",
    ")\n",
    "rag_chain = create_retrieval_chain(history_aware_retriever, question_answer_chain)"
   ]
  },
  {
   "cell_type": "code",
   "execution_count": 18,
   "metadata": {},
   "outputs": [
    {
     "name": "stderr",
     "output_type": "stream",
     "text": [
      "2024-11-23 00:42:09 - httpx - INFO - HTTP Request: POST https://api.cohere.com/v1/chat \"HTTP/1.1 200 OK\"\n"
     ]
    },
    {
     "name": "stdout",
     "output_type": "stream",
     "text": [
      "Ann's major anxiety issues, as mentioned in the case study, include:\n",
      "\n",
      "1. Difficulty interacting with others, especially males, due to past traumas and PTSD, leading to feelings of anxiety and agitation in social situations.\n",
      "\n",
      "2. Severe distress and anxiety when in public or large groups, making it hard for her to leave the house or use public transportation.\n",
      "\n",
      "3. Agitation and psychomotor restlessness during therapy sessions, often leading her to abruptly end them.\n",
      "\n",
      "4. Frequent and repeated calls to her therapist when anxious, sometimes every hour.\n",
      "\n",
      "5. Difficulty concentrating, which varies from day-to-day, partly dependent on her anxiety levels.\n",
      "\n",
      "6. Fear of conflict, leading to avoidance behaviour and an inability to resolve workplace issues, impacting her job performance and retention.\n",
      "\n",
      "7. Agitation and anxiety stemming from family conflict, which escalates her symptoms, including flashbacks.\n",
      "\n",
      "8. Feeling threatened and fearful in most situations, even when no apparent threat exists.\n",
      "\n",
      "9. Difficulty managing her anger and expressing it appropriately.\n",
      "\n",
      "10. Insomnia, with trouble waking up in the morning and sleeping through the night.\n",
      "\n",
      "Overall, Ann's anxiety greatly affects her daily life, relationships, and employment, and appears to have a cyclical effect on her depression and PTSD symptoms.\n"
     ]
    }
   ],
   "source": [
    "response = rag_chain.invoke(\n",
    "    {\n",
    "        \"input\": \"Give me a list of major axiety issues of Ann.\",\n",
    "    }\n",
    ")\n",
    "\n",
    "print(response[\"answer\"])"
   ]
  },
  {
   "cell_type": "code",
   "execution_count": 20,
   "metadata": {},
   "outputs": [
    {
     "name": "stderr",
     "output_type": "stream",
     "text": [
      "2024-11-23 00:43:09 - httpx - INFO - HTTP Request: POST https://api.cohere.com/v1/chat \"HTTP/1.1 200 OK\"\n"
     ]
    },
    {
     "name": "stdout",
     "output_type": "stream",
     "text": [
      "Yes, Ann appears to be experiencing insomnia, which is a common symptom of depression. The doctor's advice for Ann would be to consult a psychiatrist to receive appropriate medication and detail psychological therapy. \n",
      "\n",
      "Ann can also try some general tips to improve her sleep quality. These include avoiding stimulants like tea, coffee, and cola before bed and avoiding heavy meals or exercises close to bedtime. Light exercises, such as walking, can help improve sleep. It's also recommended to avoid watching TV or reading novels right before sleep. \n",
      "\n",
      "Additionally, as Ann's insomnia is linked to her depression and anxiety, addressing these underlying issues with the help of a psychiatrist and therapist could also help improve her sleep over time.\n"
     ]
    }
   ],
   "source": [
    "response = rag_chain.invoke(\n",
    "    {\n",
    "        \"input\": \"Ann seems to have insomnia. What can she do to fix it?\",\n",
    "    }\n",
    ")\n",
    "\n",
    "print(response[\"answer\"])"
   ]
  },
  {
   "cell_type": "code",
   "execution_count": 19,
   "metadata": {},
   "outputs": [
    {
     "data": {
      "text/plain": [
       "{'input': 'Give me a list of major axiety issues of Ann.',\n",
       " 'context': [Document(metadata={'file_name': 'anxiety-patient.pdf', 'page_no': '5', 'total_pages': '7', 'category': 'medical', 'sub_category': 'document'}, page_content='husband, and including her sister’s former boyfriend who raped her.  It is difficult for her to \\narticulate if this is a change, or just something she has become aware of recently. She cannot \\ndescribe a fulfilling social relationship in her life. Her PTSD and depression prevents her from \\nexperiencing emotional stability for any length of time. Ann has expressed difficulty interacting \\nwith many individuals, but even more so with males. Her PTSD and past traumas hinder all \\ninteractions. \\n \\nAnn has expressed, especially in recent months, significant difficulty being in or around large \\ngroups of people. In particular, being out in public is very distressing to her. She relies on family \\nmembers to bring her to appointments because she cannot tolerate the crowds on public \\ntransportation. When she is in public, she feels overwhelming anxiety and fear. Her inability to \\ninteract with others and complete tasks compromises her workplace performance. \\n \\nConcentrate, Persist, or Maintain Pace \\n \\nAnn exhibits limitations in concentration. Her concentration varies from day-to-day and tends to \\nbe dependent on multiple factors: her anxiety level, her blood sugar level (which is unknown at \\nthis point, as she is not currently monitoring it), the medications she takes, fears surrounding \\nsubstance use, and family conflict.  Overall, she describes her concentration as “much worse in \\nthe last several months.” She brought her niece to her last therapy session, stating, “I can’t pay \\nattention or remember anything right now.” She also reports getting easily lost, experiencing'),\n",
       "  Document(metadata={'file_name': 'anxiety-patient.pdf', 'page_no': '5', 'total_pages': '7', 'category': 'medical', 'sub_category': 'document'}, page_content='5 \\nnumerous occasions, Ann was unable to convey detailed medical information to the medical \\nteam.  Likewise, Ann was unable to apply housekeeping procedures which affected her job \\nperformance because she was unable to perform the minimal requirements of her job. As a result, \\nAnn was placed on probation, and subsequently fired.  \\n \\nInteract with Others  \\n \\nAnn demonstrates marked difficulty in interacting with others when trying to navigate work \\nsituations and daily life. Ann has a tenuous relationship with her family: she has continual \\nconflicts and altercations with her mother and other family members which, at times, escalates to \\ncrisis.  She reports a great deal of conflict with her mother, with whom she sporadically stays, \\nand her sister, with whom she also sporadically stays. While her family is her support, they also \\ncause her significant anxiety and pain. When Ann is in crisis, the family conflict escalates \\nquickly. In turn, family conflict increases her symptoms which include flashbacks, agitation, and \\nanxiety.  \\n \\nAnn states that she prefers to be by herself rather than surrounded by others. As noted above, she \\nfeels pressured to establish social relationships, but has little desire to do so. She has difficulty \\ninteracting with individuals with whom she already has relationships and chooses to isolate \\nherself from them. In addition, she has significant anxiety interacting with new people and \\ngroups, and attempts to avoid social situations. She reports that interpersonal interactions make \\nher anxious, agitated, and uncomfortable.  \\n \\nAnn states outright, “I don’t trust men.” She attributes this to most of her interactions with men \\nbeing negative and threatening, beginning with her abusive father, continuing with her abusive \\nhusband, and including her sister’s former boyfriend who raped her.  It is difficult for her to \\narticulate if this is a change, or just something she has become aware of recently. She cannot'),\n",
       "  Document(metadata={'file_name': 'anxiety-patient.pdf', 'page_no': '6', 'total_pages': '7', 'category': 'medical', 'sub_category': 'document'}, page_content='6 \\nfears about getting lost, and short-term memory deficits. Ann’s behavior varies quite a bit in her \\ntherapy visits to Community Health Center.  \\n \\nAdapt or Manage Oneself  \\n \\nAnn reports limitations in adapting and managing herself especially when she is symptomatic. \\nAnn has presented in therapy in many different mental states. At times she is calm and able to \\nengage. At other times she raises her voice and paces around this small office.  During agitated \\nsessions she has asked to abruptly end the session. She exhibits psychomotor agitation, pressured \\nspeech, and anxiety. When she is anxious out of session, she calls this writer repeatedly, leaving \\nconsecutive voice mail messages containing the same information. Sometimes she calls every \\nhour until this writer returns her call. At times she is calm, easy to engage, and able to tolerate a \\n45-minute meeting. More often than not, she is visibly anxious and agitated, fidgeting in her seat \\nand asking, “Are we done yet?” She tends to change topics abruptly, particularly when \\ndiscussing something emotionally painful. \\n \\nAnn has difficulty expressing anger and coping with conflict. She finds conflict threatening and \\nfears retaliation, even when no real threat exists. Ann views most situations as threatening and \\nbecomes quite fearful, even in the absence of conflict. Ann has attempted employment on \\nnumerous occasions, but each time, she has been unable to maintain the job. In past professional \\nsettings, conflict was a barrier to success because fear prevented her from solving issues with co-\\nworkers and supervisors. She has difficulty managing expectations of co-workers and \\nsupervisors and handling the day-to-day stressors of a job. She avoids issues and is unable to \\nresolve conflicts. \\n \\nShe has trouble waking in the morning and trouble sleeping through the night. She reports that \\nshe knows how to cook, but has little motivation to do so. Ann used to keep up with her'),\n",
       "  Document(metadata={'file_name': 'anxiety-patient.pdf', 'page_no': '2', 'total_pages': '7', 'category': 'medical', 'sub_category': 'document'}, page_content='2 \\nrelationship with her children is also strained. Recently she suffered a death in her family which \\nhas caused her significant distress.  \\n \\nEmployment History \\n \\nAnn has an extensive employment history and sees tremendous value work. Ann worked initially \\nin food service: at a bakery and a restaurant in the Street Market.  She has also commercially \\ncleaned apartment buildings and casinos. Professional cleaning allowed her to interact minimally \\nwith others, but the job responsibilities caused her significant anxiety. Ann has had her LPN \\nlicense since 1989, but due to the demanding nature of the work, she “switched around a lot.”  \\nHer longest job was two years as an LPN. Her total time working in that field was roughly five \\nyears.  \\n \\nAnn has divulged that her biggest struggle while working is relating to her co-workers. She feels \\nmore comfortable alone than with the same people day after day. “I don’t trust people,” she \\nreports, and relates this to her long history of abusive relationships. She said jobs become more \\ndifficult the longer she works there because co-workers expect her to develop friendly \\nrelationships with them. Instead, she “overdoes it”, taking on “too much” which increases her \\ndepression and anxiety. She tends to take on more than she can handle in order to stay busy and \\navoid others. This keeps her anxiety and trauma triggers at bay. Eventually, however, she \\nbecomes overworked, stressed, and anxious.  \\n \\nIn December 2008, she was fired from a job and has been unable to return to work due to \\nincreased anxiety and depressed mood. Ann continues to express interest in employment, but her \\ncurrent mental health symptoms limit her ability to function in a work environment. Ann has \\nadmits that when she works, her symptoms are greatly compounded and she has difficulty \\ndealing with the stress, social interactions, and job expectations.  \\n \\nSubstance Use History'),\n",
       "  Document(metadata={'file_name': 'anxiety-patient.pdf', 'page_no': '6', 'total_pages': '7', 'category': 'medical', 'sub_category': 'document'}, page_content='She has trouble waking in the morning and trouble sleeping through the night. She reports that \\nshe knows how to cook, but has little motivation to do so. Ann used to keep up with her \\nhousehold chores, but now she has little motivation or desire due to depression. At a recent \\nappointment, she presented disheveled and was wearing slippers. Her deficits in ADLs stem \\nfrom her lack of motivation and feelings of worthlessness that hinder her ability to complete day-\\nto-day tasks. \\n \\nAnn’s day consists of staying at home and trying to make it through the day. She wakes up most \\nmornings around 10-11a.m. and says, “It’s an effort just to get out of bed.” She notes constant \\nfeelings of guilt, worthlessness, agitation, and suicidal thoughts.  \\n \\nSummary \\n \\nAnn is a 52-year-old female with a substantial history of depression and substance use. She \\ncontinues to struggle with low mood, anxiety, marked symptoms of post-traumatic stress \\ndisorder and substance use. Her substance use has acted to help her cope with her feelings and to \\ndecrease her anxious feelings. Ann experiences functional impairments due to her depression, \\nanxiety, and PTSD. These impairments and symptoms are substantial barriers for her for her \\nreturn to work.'),\n",
       "  Document(metadata={'file_name': 'anxiety-patient.pdf', 'page_no': '3', 'total_pages': '7', 'category': 'medical', 'sub_category': 'document'}, page_content='significant agitation. Ann sought medical attention for diabetes and mental health care for major \\ndepression, and continues to receive care at CHC.  \\n \\nThroughout her treatment at CHC she has expressed feelings of worthlessness and helplessness \\nregarding her life situation. Prior to seeking treatment at CHC, she reported several ER visits for \\nsuicidal ideation, agitation, and substance use.  \\n \\nOn 5/15/2009 Ann had a psychiatric evaluation and exhibited increased anxiety and constricted \\naffect. Ann also demonstrated difficulty tolerating therapeutic sessions. She felt too anxious to \\nparticipate in a 60-minute session.  \\n \\nAnn missed several follow-up appointments and returned to CHC in September 2009 \\nexperiencing significant anxiety and distress. On 9/16/09 she reported feelings of frustration and \\nhopelessness stating, “I can’t do this anymore.” Around this time, Ann was awaiting a decision \\non her SSI/SSDI application and was experiencing significant distress over it.  \\n \\nOn 9/25/09 she met with a new psychiatrist who noted that Ann was experiencing worsening \\ndepression with hopelessness, insomnia, loss of appetite, and significant weight loss (17 pounds \\nin 2 months). She also noted passive suicidal ideation.')],\n",
       " 'answer': \"Ann's major anxiety issues, as mentioned in the case study, include:\\n\\n1. Difficulty interacting with others, especially males, due to past traumas and PTSD, leading to feelings of anxiety and agitation in social situations.\\n\\n2. Severe distress and anxiety when in public or large groups, making it hard for her to leave the house or use public transportation.\\n\\n3. Agitation and psychomotor restlessness during therapy sessions, often leading her to abruptly end them.\\n\\n4. Frequent and repeated calls to her therapist when anxious, sometimes every hour.\\n\\n5. Difficulty concentrating, which varies from day-to-day, partly dependent on her anxiety levels.\\n\\n6. Fear of conflict, leading to avoidance behaviour and an inability to resolve workplace issues, impacting her job performance and retention.\\n\\n7. Agitation and anxiety stemming from family conflict, which escalates her symptoms, including flashbacks.\\n\\n8. Feeling threatened and fearful in most situations, even when no apparent threat exists.\\n\\n9. Difficulty managing her anger and expressing it appropriately.\\n\\n10. Insomnia, with trouble waking up in the morning and sleeping through the night.\\n\\nOverall, Ann's anxiety greatly affects her daily life, relationships, and employment, and appears to have a cyclical effect on her depression and PTSD symptoms.\"}"
      ]
     },
     "execution_count": 19,
     "metadata": {},
     "output_type": "execute_result"
    }
   ],
   "source": [
    "response"
   ]
  },
  {
   "cell_type": "code",
   "execution_count": 21,
   "metadata": {},
   "outputs": [
    {
     "data": {
      "text/plain": [
       "{'input': 'Ann seems to have insomnia. What can she do to fix it?',\n",
       " 'context': [Document(metadata={'file_name': 'anxiety-patient.pdf', 'page_no': '6', 'total_pages': '7', 'category': 'medical', 'sub_category': 'document'}, page_content='She has trouble waking in the morning and trouble sleeping through the night. She reports that \\nshe knows how to cook, but has little motivation to do so. Ann used to keep up with her \\nhousehold chores, but now she has little motivation or desire due to depression. At a recent \\nappointment, she presented disheveled and was wearing slippers. Her deficits in ADLs stem \\nfrom her lack of motivation and feelings of worthlessness that hinder her ability to complete day-\\nto-day tasks. \\n \\nAnn’s day consists of staying at home and trying to make it through the day. She wakes up most \\nmornings around 10-11a.m. and says, “It’s an effort just to get out of bed.” She notes constant \\nfeelings of guilt, worthlessness, agitation, and suicidal thoughts.  \\n \\nSummary \\n \\nAnn is a 52-year-old female with a substantial history of depression and substance use. She \\ncontinues to struggle with low mood, anxiety, marked symptoms of post-traumatic stress \\ndisorder and substance use. Her substance use has acted to help her cope with her feelings and to \\ndecrease her anxious feelings. Ann experiences functional impairments due to her depression, \\nanxiety, and PTSD. These impairments and symptoms are substantial barriers for her for her \\nreturn to work.'),\n",
       "  Document(metadata={'file_name': 'medqa.parquet', 'page_no': '2092', 'total_pages': '112165', 'category': 'medical', 'sub_category': 'conversation'}, page_content='input: Hi, my name is Sheila. I m 18 years old, 5 tall and weighing 52 kg. I have an asthma since I was highschool and just lately my cardiologist said I have an MVP. I had a sleeping disorder before and my doctor gave me a sleeping pill (i ll take it just as needed) and isoptin. I stopped taking the sleeping pill because I can already sleep at night. But just these few nights (roughly 3 consecutive nights), I had trouble sleeping and even right now I can t get myself to sleep. Is this because of the MVP or caused by another problem? Do I have to see another doctor for a second opinion on my case? Thank you so much.\\noutput: Hello, No MVP is not a cause of insomnia, these two are unrelated problems. You need to see the psychiatrist for sleep problems. In general, avoid stimulant like tea, coffee, cola Chat Doctor.  Avoid too heavy meals or exercises prior to sleep, light exercises like walking is encouraged. Also avoid TV or novels prior to sleep. Hope I have answered your query. Let me know if I can assist you further.'),\n",
       "  Document(metadata={'file_name': 'anxiety-patient.pdf', 'page_no': '5', 'total_pages': '7', 'category': 'medical', 'sub_category': 'document'}, page_content='husband, and including her sister’s former boyfriend who raped her.  It is difficult for her to \\narticulate if this is a change, or just something she has become aware of recently. She cannot \\ndescribe a fulfilling social relationship in her life. Her PTSD and depression prevents her from \\nexperiencing emotional stability for any length of time. Ann has expressed difficulty interacting \\nwith many individuals, but even more so with males. Her PTSD and past traumas hinder all \\ninteractions. \\n \\nAnn has expressed, especially in recent months, significant difficulty being in or around large \\ngroups of people. In particular, being out in public is very distressing to her. She relies on family \\nmembers to bring her to appointments because she cannot tolerate the crowds on public \\ntransportation. When she is in public, she feels overwhelming anxiety and fear. Her inability to \\ninteract with others and complete tasks compromises her workplace performance. \\n \\nConcentrate, Persist, or Maintain Pace \\n \\nAnn exhibits limitations in concentration. Her concentration varies from day-to-day and tends to \\nbe dependent on multiple factors: her anxiety level, her blood sugar level (which is unknown at \\nthis point, as she is not currently monitoring it), the medications she takes, fears surrounding \\nsubstance use, and family conflict.  Overall, she describes her concentration as “much worse in \\nthe last several months.” She brought her niece to her last therapy session, stating, “I can’t pay \\nattention or remember anything right now.” She also reports getting easily lost, experiencing'),\n",
       "  Document(metadata={'file_name': 'medqa.parquet', 'page_no': '13445', 'total_pages': '112165', 'category': 'medical', 'sub_category': 'conversation'}, page_content='input: I ve been diagnosed with a couple things such as anxiety, depression, and sleep disorder. I ve noticed a lot lately that I m having a hard time telling weather or not I m dreaming. How often it happens is increasing. What is it? What do you suggest I do?\\noutput: Hi. I had gone through your query. Sleep disturbance or insomnia is common in depression. It is one of the main symptoms along with mood variability. Depression can be treated witChatDoctorbination of medicines that improve depression, anxiety and insomnia. Medicines like Escitalopram/sertraline and paroxetine can help in depression. Benzodiazapine group like Mizoram/lorazepam/clonazepam etc. will help in anxiety and insomnia. But do take advise from psychiatrist before taking any medicines. Detail psychological work up will give better treatment. So consult and get help. I hope I have answered your query. Feel free to ask. Thank you.'),\n",
       "  Document(metadata={'file_name': 'anxiety-patient.pdf', 'page_no': '2', 'total_pages': '7', 'category': 'medical', 'sub_category': 'document'}, page_content='admits that when she works, her symptoms are greatly compounded and she has difficulty \\ndealing with the stress, social interactions, and job expectations.  \\n \\nSubstance Use History \\n \\nAnn has a substantial substance use history, reporting that she first started drinking at the age of \\n14. In the short-term, using alcohol helps dull her symptoms of depression and anxiety. “It \\nrelieves me of my worries.” When she abstains from alcohol, not only do the symptoms return, \\nthey often return worse than before the alcohol use. Her feelings surrounding her alcohol use \\ncause her significant stress and anxiety. Ann demonstrates anxiety and agitation in the presence \\nand absence of alcohol. Ann maintains that she drinks “not to get drunk, just enough to make me \\nfeel better.” Alcohol helps numb her feelings and symptoms. In session, this writer has witnessed \\nAnn be much calmer when she has been drinking. For the most part, when she is not drinking, \\nshe is visibly anxious, agitated and cannot tolerate a therapy session. \\n \\nThroughout periods of sobriety and relapse, she has continued to experience symptoms. She has \\nattempted Alcoholics Anonymous, and while she often states intention to return, she expresses a \\ngreat deal of distress at the thought of it. At the onset of treatment, she formed relationships with \\npeople in the AA program, but slowly over time has isolated herself from all but one of them. In \\nrecent months, Ann’s symptoms have worsened due to a variety of factors and her substance use \\nhas increased.'),\n",
       "  Document(metadata={'file_name': 'medqa.parquet', 'page_no': '4070', 'total_pages': '112165', 'category': 'medical', 'sub_category': 'conversation'}, page_content='input: My 88 yr old wife, post stroke on 01/09/2018 is being given trazodone in a rehab facility. her evening or resting hours are filled with insomnia, anxious behavior, restlessness , confusion, thus not much solid sleep. She is also on a blood thinner and has afib,a valvue issue and CHF. I believe this is not a good match, she then is weaker, not connecting the dots and very drowsy most of the day. What do you think of this as a sleep aide\\noutput: Elderly patients are more likely to suffer from chronic insomnia characterized by difficulty maintaining sleep than difficulty initiating sleep. Management of insomnia in these patients requires very careful evaluation and exclusion of an underlying medical or psychiatric condition. Nonpharmacologic interventions in elderly patients, especially use of behavioral therapy, have demonstrated some successor can discuss newer medications with psychiatrists Regards')],\n",
       " 'answer': \"Yes, Ann appears to be experiencing insomnia, which is a common symptom of depression. The doctor's advice for Ann would be to consult a psychiatrist to receive appropriate medication and detail psychological therapy. \\n\\nAnn can also try some general tips to improve her sleep quality. These include avoiding stimulants like tea, coffee, and cola before bed and avoiding heavy meals or exercises close to bedtime. Light exercises, such as walking, can help improve sleep. It's also recommended to avoid watching TV or reading novels right before sleep. \\n\\nAdditionally, as Ann's insomnia is linked to her depression and anxiety, addressing these underlying issues with the help of a psychiatrist and therapist could also help improve her sleep over time.\"}"
      ]
     },
     "execution_count": 21,
     "metadata": {},
     "output_type": "execute_result"
    }
   ],
   "source": [
    "response"
   ]
  }
 ],
 "metadata": {
  "kernelspec": {
   "display_name": ".venv",
   "language": "python",
   "name": "python3"
  },
  "language_info": {
   "codemirror_mode": {
    "name": "ipython",
    "version": 3
   },
   "file_extension": ".py",
   "mimetype": "text/x-python",
   "name": "python",
   "nbconvert_exporter": "python",
   "pygments_lexer": "ipython3",
   "version": "3.11.10"
  }
 },
 "nbformat": 4,
 "nbformat_minor": 2
}
